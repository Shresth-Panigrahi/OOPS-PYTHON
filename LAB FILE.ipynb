{
 "cells": [
  {
   "cell_type": "markdown",
   "id": "33932285-87c8-499a-aa69-b03b1824b7fd",
   "metadata": {},
   "source": [
    "# Factorial of a given number"
   ]
  },
  {
   "cell_type": "code",
   "execution_count": 7,
   "id": "3b65ee04-1b50-49ec-b3fd-c37dc5e077e1",
   "metadata": {},
   "outputs": [
    {
     "name": "stdout",
     "output_type": "stream",
     "text": [
      "Enter a number:  5\n"
     ]
    },
    {
     "name": "stdout",
     "output_type": "stream",
     "text": [
      "The factorial of 5 is: 120\n"
     ]
    },
    {
     "name": "stdout",
     "output_type": "stream",
     "text": [
      "Do you wish to conitnue (y/n):  y\n",
      "Enter a number:  10\n"
     ]
    },
    {
     "name": "stdout",
     "output_type": "stream",
     "text": [
      "The factorial of 10 is: 3628800\n"
     ]
    },
    {
     "name": "stdout",
     "output_type": "stream",
     "text": [
      "Do you wish to conitnue (y/n):  y\n",
      "Enter a number:  4\n"
     ]
    },
    {
     "name": "stdout",
     "output_type": "stream",
     "text": [
      "The factorial of 4 is: 24\n"
     ]
    },
    {
     "name": "stdout",
     "output_type": "stream",
     "text": [
      "Do you wish to conitnue (y/n):  n\n"
     ]
    }
   ],
   "source": [
    "def Fact(n):\n",
    "    P = 1\n",
    "    for i in range(1,n+1):\n",
    "        P = P * i\n",
    "    return P\n",
    "\n",
    "while True:\n",
    "    N = int(input(\"Enter a number: \"))\n",
    "    ans = Fact(N)\n",
    "    print(f\"The factorial of {N} is: {ans}\")\n",
    "    Z = input(\"Do you wish to conitnue (y/n): \")\n",
    "    if Z in 'nN':\n",
    "        break"
   ]
  },
  {
   "cell_type": "markdown",
   "id": "66dcae10-4e26-47b2-bc49-541b4d3fac23",
   "metadata": {},
   "source": [
    "# Prime Numbers below 100\n"
   ]
  },
  {
   "cell_type": "code",
   "execution_count": 15,
   "id": "59498314-b935-4241-91a3-3ea7362d8686",
   "metadata": {},
   "outputs": [
    {
     "name": "stdout",
     "output_type": "stream",
     "text": [
      "2 3 5 7 11 13 17 19 23 29 31 37 41 43 47 53 59 61 67 71 73 79 83 89 97 "
     ]
    }
   ],
   "source": [
    "def isPrime(n):\n",
    "    flag = 0\n",
    "    for i in range(2,n//2 + 1):\n",
    "        if n%i == 0:\n",
    "            flag = 1\n",
    "    if flag != 1:\n",
    "        return True\n",
    "    else:\n",
    "        return False\n",
    "\n",
    "def Prime_below100():\n",
    "    for i in range(2,101):\n",
    "        A = isPrime(i)\n",
    "        if A == True:\n",
    "            print(i, end = ' ')\n",
    "        else:\n",
    "            continue\n",
    "\n",
    "Prime_below100()"
   ]
  },
  {
   "cell_type": "markdown",
   "id": "96ead498-c062-406c-8e51-a484671f2020",
   "metadata": {},
   "source": [
    "# To count the number of characters in a string and store them in a dictionary\n"
   ]
  },
  {
   "cell_type": "code",
   "execution_count": 31,
   "id": "e472e29f-7adb-41c5-a5e1-3eaf6d766b9e",
   "metadata": {},
   "outputs": [
    {
     "name": "stdout",
     "output_type": "stream",
     "text": [
      "Enter a word:  hello\n"
     ]
    },
    {
     "name": "stdout",
     "output_type": "stream",
     "text": [
      "{'h': 1, 'e': 1, 'l': 2, 'o': 1}\n"
     ]
    },
    {
     "name": "stdout",
     "output_type": "stream",
     "text": [
      "Do you wish to continue (y/n):  y\n",
      "Enter a word:  assignment\n"
     ]
    },
    {
     "name": "stdout",
     "output_type": "stream",
     "text": [
      "{'a': 1, 's': 2, 'i': 1, 'g': 1, 'n': 2, 'm': 1, 'e': 1, 't': 1}\n"
     ]
    },
    {
     "name": "stdout",
     "output_type": "stream",
     "text": [
      "Do you wish to continue (y/n):  n\n"
     ]
    }
   ],
   "source": [
    "def stringCount(str):\n",
    "    D = {}\n",
    "    for i in str:\n",
    "        if i not in D.keys():\n",
    "            D[i] = 1\n",
    "        else:\n",
    "            D[i] += 1\n",
    "    return D\n",
    "\n",
    "while True:\n",
    "    A = input(\"Enter a word: \")\n",
    "    ans = stringCount(A)\n",
    "    print(ans)\n",
    "    Z = input(\"Do you wish to continue (y/n): \")\n",
    "    if Z in 'nN':\n",
    "        break"
   ]
  },
  {
   "cell_type": "markdown",
   "id": "b4e0eccf-653c-40cf-9e52-c6ca21b912c5",
   "metadata": {},
   "source": [
    "# Using spilts and joins in string and trace a birthday with a dictionary"
   ]
  },
  {
   "cell_type": "code",
   "execution_count": 4,
   "id": "15a88b03-8e0c-4987-81ae-31cc7380bfba",
   "metadata": {},
   "outputs": [
    {
     "name": "stdin",
     "output_type": "stream",
     "text": [
      "Enter the amount of people you want to add in the dictionary:  3\n",
      "Enter the name of the person:  Shresth Panigrahi\n",
      "Enter the Date of Birth (dd/mm/yyyy):  30/05/2005\n",
      "Enter the name of the person:  Shubham Raj\n",
      "Enter the Date of Birth (dd/mm/yyyy):  06/12/2004\n",
      "Enter the name of the person:  Shivika Singh\n",
      "Enter the Date of Birth (dd/mm/yyyy):  27/04/2004\n",
      "Enter the name of the person to trace their birthday:  Shubham Raj\n"
     ]
    },
    {
     "name": "stdout",
     "output_type": "stream",
     "text": [
      "Shubham Raj's birthday is on 06/12/2004\n"
     ]
    }
   ],
   "source": [
    "def find_birthday(name):\n",
    "    name_parts = name.split()\n",
    "    \n",
    "    formatted_name = \" \".join(name_parts)\n",
    "    \n",
    "\n",
    "    birthday = birthdays.get(formatted_name)\n",
    "    \n",
    "    if birthday:\n",
    "        print(f\"{formatted_name}'s birthday is on {birthday}\")\n",
    "    else:\n",
    "        print(f\"{formatted_name}'s birthday information is not available in the dictionary\")\n",
    "\n",
    "birthdays = {}\n",
    "A = int(input(\"Enter the amount of people you want to add in the dictionary: \"))\n",
    "\n",
    "for i in range(A):\n",
    "    key = input(\"Enter the name of the person: \")\n",
    "    value = input(\"Enter the Date of Birth (dd/mm/yyyy): \")\n",
    "    birthdays[key] = value\n",
    "    \n",
    "name = input(\"Enter the name of the person to trace their birthday: \")\n",
    "find_birthday(name)\n"
   ]
  },
  {
   "cell_type": "markdown",
   "id": "b77e7bb4-b95c-432b-a76e-e56684e621a5",
   "metadata": {},
   "source": [
    "# Finding mean, median, mode of given numbers in a list"
   ]
  },
  {
   "cell_type": "code",
   "execution_count": 24,
   "id": "edc57348-b5a2-4023-8282-180205de3881",
   "metadata": {},
   "outputs": [
    {
     "name": "stdin",
     "output_type": "stream",
     "text": [
      "Enter the number of elements in a list:  12\n",
      "Enter a number:  7\n",
      "Enter a number:  5\n",
      "Enter a number:  98\n",
      "Enter a number:  7\n",
      "Enter a number:  56\n",
      "Enter a number:  33\n",
      "Enter a number:  7\n",
      "Enter a number:  21\n",
      "Enter a number:  33\n",
      "Enter a number:  24\n",
      "Enter a number:  89\n",
      "Enter a number:  7\n"
     ]
    },
    {
     "name": "stdout",
     "output_type": "stream",
     "text": [
      "Sorted list: [5, 7, 7, 7, 7, 21, 24, 33, 33, 56, 89, 98]\n",
      "Mean:  32.25\n",
      "Median:  22.5\n",
      "Mode:  7\n"
     ]
    }
   ],
   "source": [
    "def __mean__(list):\n",
    "    length = len(list)\n",
    "    s = 0\n",
    "    \n",
    "    for i in list:\n",
    "        s = s + i\n",
    "\n",
    "    m = s / length\n",
    "    return m\n",
    "\n",
    "def __median__(median):\n",
    "    length = len(list)\n",
    "\n",
    "    if length % 2 == 0:\n",
    "        return (list[length // 2] + list[length //2 - 1]) / 2\n",
    "    else:\n",
    "        return list[length // 2]\n",
    "        \n",
    "def __mode__(list):\n",
    "    count = 0\n",
    "    md = 0\n",
    "\n",
    "    for i in list:\n",
    "        ctr = 0\n",
    "        for j in list:\n",
    "            if j == i:\n",
    "                ctr += 1\n",
    "        if ctr > count:\n",
    "            count = ctr\n",
    "            md = i\n",
    "    return md\n",
    "\n",
    "\n",
    "list = []\n",
    "A = int(input(\"Enter the number of elements in a list: \"))\n",
    "\n",
    "for i in range(A):\n",
    "    S = int(input(\"Enter a number: \"))\n",
    "    list.append(S)\n",
    "list.sort()\n",
    "print(f\"Sorted list: {list}\")\n",
    "\n",
    "mean = __mean__(list)\n",
    "median = __median__(list)\n",
    "mode = __mode__(list)\n",
    "\n",
    "print(\"Mean: \", mean)\n",
    "print(\"Median: \", median)\n",
    "print(\"Mode: \", mode)"
   ]
  },
  {
   "cell_type": "markdown",
   "id": "97b69e0a-6382-4c4e-b8b4-d8bce6fca162",
   "metadata": {},
   "source": [
    "# Dups() Function finding all duplicates in a list"
   ]
  },
  {
   "cell_type": "code",
   "execution_count": 4,
   "id": "8259bcb0-1bd9-4c1d-9d21-a96215a6f549",
   "metadata": {},
   "outputs": [
    {
     "name": "stdin",
     "output_type": "stream",
     "text": [
      "Enter the number of elements in the list:  10\n",
      "Enter a number:  1\n",
      "Enter a number:  2\n",
      "Enter a number:  3\n",
      "Enter a number:  4\n",
      "Enter a number:  5\n",
      "Enter a number:  5\n",
      "Enter a number:  5\n",
      "Enter a number:  6\n",
      "Enter a number:  7\n",
      "Enter a number:  7\n"
     ]
    },
    {
     "name": "stdout",
     "output_type": "stream",
     "text": [
      "5 7 "
     ]
    }
   ],
   "source": [
    "def __dups__(list):\n",
    "    l = len(list)\n",
    "    dup = {}\n",
    "    for i in list:\n",
    "        if i not in dup.keys():\n",
    "            dup[i] = 1\n",
    "        else:\n",
    "            dup[i] += 1\n",
    "\n",
    "    for i in dup:\n",
    "        if dup[i] > 1:\n",
    "            print(i, end = ' ')\n",
    "\n",
    "\n",
    "List = []\n",
    "N = int(input(\"Enter the number of elements in the list: \"))\n",
    "\n",
    "for i in range(N):\n",
    "    n = int(input(\"Enter a number: \"))\n",
    "    List.append(n)\n",
    "\n",
    "__dups__(List)"
   ]
  },
  {
   "cell_type": "markdown",
   "id": "46dab50c-3872-4c2b-bcc4-1d90384c7089",
   "metadata": {},
   "source": [
    "# Addition of 2 Matrices"
   ]
  },
  {
   "cell_type": "code",
   "execution_count": 6,
   "id": "ef55c75c-690e-4871-81c0-c9f0165787d1",
   "metadata": {},
   "outputs": [
    {
     "name": "stdout",
     "output_type": "stream",
     "text": [
      "[[6, 8], [10, 12]]\n"
     ]
    }
   ],
   "source": [
    "def add_matrices(matrix1, matrix2):\n",
    "    if len(matrix1) != len(matrix2) or len(matrix1[0]) != len(matrix2[0]):\n",
    "        raise ValueError(\"Matrices must have the same dimensions\")\n",
    "    \n",
    "    result = []\n",
    "    \n",
    "    for i in range(len(matrix1)):\n",
    "        row = []\n",
    "        for j in range(len(matrix1[0])):\n",
    "            row.append(matrix1[i][j] + matrix2[i][j])\n",
    "        result.append(row)\n",
    "    \n",
    "    return result\n",
    "\n",
    "matrix1 = [[1, 2], [3, 4]]\n",
    "matrix2 = [[5, 6], [7, 8]]\n",
    "result = add_matrices(matrix1, matrix2)\n",
    "print(result) "
   ]
  },
  {
   "cell_type": "markdown",
   "id": "a6cdd0d7-88ed-4e2d-85c6-a512bdea3002",
   "metadata": {},
   "source": [
    "# Multiplication of 2 Matrices"
   ]
  },
  {
   "cell_type": "code",
   "execution_count": 9,
   "id": "e8e72308-5a18-4f56-9241-e211ad3e1eff",
   "metadata": {},
   "outputs": [
    {
     "name": "stdout",
     "output_type": "stream",
     "text": [
      "[[19, 22], [43, 50]]\n"
     ]
    }
   ],
   "source": [
    "def multiply_matrices(matrix1, matrix2):\n",
    "    if len(matrix1[0]) != len(matrix2):\n",
    "        raise ValueError(\"Number of columns in first matrix must equal number of rows in second matrix\")\n",
    "    \n",
    "    result = [[0 for _ in range(len(matrix2[0]))] for _ in range(len(matrix1))]\n",
    "    \n",
    "    for i in range(len(matrix1)):\n",
    "        for j in range(len(matrix2[0])):\n",
    "            for k in range(len(matrix2)):\n",
    "                result[i][j] += matrix1[i][k] * matrix2[k][j]\n",
    "    \n",
    "    return result\n",
    "\n",
    "matrix1 = [[1, 2], [3, 4]]\n",
    "matrix2 = [[5, 6], [7, 8]]\n",
    "result = multiply_matrices(matrix1, matrix2)\n",
    "print(result)"
   ]
  },
  {
   "cell_type": "markdown",
   "id": "1757acfb-2f4c-4342-ab0f-2f27412e0403",
   "metadata": {},
   "source": [
    "# String Parenthesis Checker"
   ]
  },
  {
   "cell_type": "code",
   "execution_count": 16,
   "id": "df43432d-673a-450c-be0d-c1a38d536fee",
   "metadata": {},
   "outputs": [
    {
     "name": "stdout",
     "output_type": "stream",
     "text": [
      "'({[]})': Balanced\n",
      "'([{}])': Balanced\n",
      "'{[()]}': Balanced\n",
      "'{[(])}': Balanced\n",
      "'((()))': Balanced\n",
      "'((())': Not balanced\n",
      "'(()())': Balanced\n",
      "'{[]}()': Balanced\n",
      "'{[}]': Balanced\n",
      "'(a[b{c}d]e)': Balanced\n",
      "'a(b[c{d}e]f)g': Balanced\n",
      "'([)]': Balanced\n",
      "'([]{})': Balanced\n"
     ]
    }
   ],
   "source": [
    "def check_all_brackets(s):\n",
    "    count = {\n",
    "        '(': 0,\n",
    "        '[': 0,\n",
    "        '{': 0\n",
    "    }\n",
    "    \n",
    "    closing_to_opening = {\n",
    "        ')': '(',\n",
    "        ']': '[',\n",
    "        '}': '{'\n",
    "    }\n",
    "    \n",
    "    for char in s:\n",
    "        if char in '([{':\n",
    "            count[char] += 1\n",
    "        elif char in ')]}':\n",
    "            opening_bracket = closing_to_opening[char]\n",
    "            if count[opening_bracket] == 0:\n",
    "                return False\n",
    "            count[opening_bracket] -= 1\n",
    "    \n",
    "    return all(value == 0 for value in count.values())\n",
    "\n",
    "test_strings = [\n",
    "    \"({[]})\",\n",
    "    \"([{}])\",\n",
    "    \"{[()]}\",\n",
    "    \"{[(])}\",\n",
    "    \"((()))\",\n",
    "    \"((())\",\n",
    "    \"(()())\",\n",
    "    \"{[]}()\",\n",
    "    \"{[}]\",\n",
    "    \"(a[b{c}d]e)\",\n",
    "    \"a(b[c{d}e]f)g\",\n",
    "    \"([)]\",\n",
    "    \"([]{})\"\n",
    "]\n",
    "\n",
    "for string in test_strings:\n",
    "    result = check_all_brackets(string)\n",
    "    print(f\"'{string}': {'Balanced' if result else 'Not balanced'}\")"
   ]
  },
  {
   "cell_type": "markdown",
   "id": "3725399f-835d-498d-933b-b5f1b25533a5",
   "metadata": {},
   "source": [
    "# Possible subsets from a set of integers"
   ]
  },
  {
   "cell_type": "code",
   "execution_count": 19,
   "id": "511852cf-d280-49d5-8528-47989de46fdb",
   "metadata": {},
   "outputs": [
    {
     "name": "stdout",
     "output_type": "stream",
     "text": [
      "[[], [1], [2], [1, 2], [3], [1, 3], [2, 3], [1, 2, 3]]\n"
     ]
    }
   ],
   "source": [
    "def subsets(nums):\n",
    "    result = [[]]\n",
    "    \n",
    "    for num in nums:\n",
    "        result += [curr + [num] for curr in result]\n",
    "    \n",
    "    return result\n",
    "\n",
    "nums = [1, 2, 3]\n",
    "unique_subsets = subsets(nums)\n",
    "print(unique_subsets)\n"
   ]
  },
  {
   "cell_type": "code",
   "execution_count": null,
   "id": "48743d74-d90c-461d-b2ed-1a6c717517da",
   "metadata": {},
   "outputs": [],
   "source": []
  }
 ],
 "metadata": {
  "kernelspec": {
   "display_name": "Python 3 (ipykernel)",
   "language": "python",
   "name": "python3"
  },
  "language_info": {
   "codemirror_mode": {
    "name": "ipython",
    "version": 3
   },
   "file_extension": ".py",
   "mimetype": "text/x-python",
   "name": "python",
   "nbconvert_exporter": "python",
   "pygments_lexer": "ipython3",
   "version": "3.12.4"
  }
 },
 "nbformat": 4,
 "nbformat_minor": 5
}
