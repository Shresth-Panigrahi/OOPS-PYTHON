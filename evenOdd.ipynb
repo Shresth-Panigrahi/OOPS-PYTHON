{
 "cells": [
  {
   "cell_type": "markdown",
   "id": "de3003d2-12b1-4797-ab58-473d9280135a",
   "metadata": {},
   "source": [
    "# To Check whether number is even or not"
   ]
  },
  {
   "cell_type": "code",
   "execution_count": 3,
   "id": "31bc19cb-b4db-47c9-9882-83a755c80e58",
   "metadata": {},
   "outputs": [
    {
     "name": "stdin",
     "output_type": "stream",
     "text": [
      "Enter a number:  2\n"
     ]
    },
    {
     "name": "stdout",
     "output_type": "stream",
     "text": [
      "Even\n"
     ]
    },
    {
     "name": "stdin",
     "output_type": "stream",
     "text": [
      "Do you wish to continue (y/n):  y\n",
      "Enter a number:  10\n"
     ]
    },
    {
     "name": "stdout",
     "output_type": "stream",
     "text": [
      "Even\n"
     ]
    },
    {
     "name": "stdin",
     "output_type": "stream",
     "text": [
      "Do you wish to continue (y/n):  y\n",
      "Enter a number:  5\n"
     ]
    },
    {
     "name": "stdout",
     "output_type": "stream",
     "text": [
      "Odd\n"
     ]
    },
    {
     "name": "stdin",
     "output_type": "stream",
     "text": [
      "Do you wish to continue (y/n):  n\n"
     ]
    }
   ],
   "source": [
    "while True:\n",
    "    N = int(input(\"Enter a number: \"))\n",
    "    if N % 2 == 0:\n",
    "        print(\"Even\")\n",
    "    else:\n",
    "        print(\"Odd\")\n",
    "\n",
    "    Z = input(\"Do you wish to continue (y/n): \")\n",
    "    if Z in 'nN':\n",
    "        break\n"
   ]
  },
  {
   "cell_type": "code",
   "execution_count": null,
   "id": "f19e913c-bfe6-4f3e-8eb9-5e2aa940cad7",
   "metadata": {},
   "outputs": [],
   "source": []
  }
 ],
 "metadata": {
  "kernelspec": {
   "display_name": "Python 3 (ipykernel)",
   "language": "python",
   "name": "python3"
  },
  "language_info": {
   "codemirror_mode": {
    "name": "ipython",
    "version": 3
   },
   "file_extension": ".py",
   "mimetype": "text/x-python",
   "name": "python",
   "nbconvert_exporter": "python",
   "pygments_lexer": "ipython3",
   "version": "3.12.4"
  }
 },
 "nbformat": 4,
 "nbformat_minor": 5
}
