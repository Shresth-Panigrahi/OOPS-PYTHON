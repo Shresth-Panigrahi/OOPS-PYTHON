{
 "cells": [
  {
   "cell_type": "markdown",
   "id": "e5cff7e6-8c3f-4d23-a033-9bafdf4bbbaa",
   "metadata": {},
   "source": [
    "# Seperate string into (,) seperated Value"
   ]
  },
  {
   "cell_type": "code",
   "execution_count": 2,
   "id": "829a40a0-658e-4ba6-8b59-efc13947dbfd",
   "metadata": {},
   "outputs": [
    {
     "name": "stdout",
     "output_type": "stream",
     "text": [
      "India,is,my,country\n"
     ]
    }
   ],
   "source": [
    "X = \"India.is.my.country\"\n",
    "\n",
    "result = X.replace('.', ',')\n",
    "print(result)"
   ]
  },
  {
   "cell_type": "markdown",
   "id": "3fb574bf-2ab4-4201-a115-eb508ef978f0",
   "metadata": {},
   "source": [
    "# Remove a character from a string"
   ]
  },
  {
   "cell_type": "code",
   "execution_count": 5,
   "id": "6e107d22-f3e2-4fd7-8e73-57f06f88f550",
   "metadata": {},
   "outputs": [
    {
     "name": "stdout",
     "output_type": "stream",
     "text": [
      "MANIPAL\n"
     ]
    }
   ],
   "source": [
    "Y = \"M.A.N.I.P.A.L\"\n",
    "char_to_remove = '.'\n",
    "\n",
    "result = Y.replace(char_to_remove, '')\n",
    "print(result)\n"
   ]
  },
  {
   "cell_type": "markdown",
   "id": "0d2d0562-ad6e-4dbd-8932-69916df81322",
   "metadata": {},
   "source": [
    "# Remove dots from string"
   ]
  },
  {
   "cell_type": "code",
   "execution_count": 8,
   "id": "12970509-2d1c-40de-8415-bc5625647952",
   "metadata": {},
   "outputs": [
    {
     "name": "stdout",
     "output_type": "stream",
     "text": [
      "MANIPAL\n"
     ]
    }
   ],
   "source": [
    "Y = \"M.A.N.I.P.A.L\"\n",
    "\n",
    "result = Y.replace('.', '')\n",
    "print(result)\n"
   ]
  },
  {
   "cell_type": "markdown",
   "id": "9a4fb2f8-1ebb-428b-9c5b-2137896bd267",
   "metadata": {},
   "source": [
    "# Sort Strings Alphabetically"
   ]
  },
  {
   "cell_type": "code",
   "execution_count": 11,
   "id": "9023b74a-3bb5-413c-b909-2b6f5b36b86c",
   "metadata": {},
   "outputs": [
    {
     "name": "stdout",
     "output_type": "stream",
     "text": [
      "Sorted strings: ['apple', 'banana', 'grape', 'orange']\n"
     ]
    }
   ],
   "source": [
    "def sort_strings(strings):\n",
    "    return sorted(strings)\n",
    "\n",
    "strings = [\"apple\", \"orange\", \"banana\", \"grape\"]\n",
    "sorted_strings = sort_strings(strings)\n",
    "print(\"Sorted strings:\", sorted_strings)\n"
   ]
  },
  {
   "cell_type": "markdown",
   "id": "ca5a9633-8398-408d-8d47-86babf3cd9b6",
   "metadata": {},
   "source": [
    "# Reverse of a string"
   ]
  },
  {
   "cell_type": "code",
   "execution_count": 14,
   "id": "5c7b998b-e859-4092-95ff-570fff9f0af5",
   "metadata": {},
   "outputs": [
    {
     "name": "stdin",
     "output_type": "stream",
     "text": [
      "Enter a string:  shresth\n"
     ]
    },
    {
     "name": "stdout",
     "output_type": "stream",
     "text": [
      "Reversed string: htserhs\n"
     ]
    }
   ],
   "source": [
    "user_input = input(\"Enter a string: \")\n",
    "\n",
    "reversed_string = user_input[::-1]\n",
    "print(\"Reversed string:\", reversed_string)\n"
   ]
  },
  {
   "cell_type": "markdown",
   "id": "fb82da35-0611-4636-98b4-f03cd8433540",
   "metadata": {},
   "source": [
    "# Check if string contains only digits"
   ]
  },
  {
   "cell_type": "code",
   "execution_count": 17,
   "id": "0815adc9-b104-4da1-908b-8ff063be9e2b",
   "metadata": {},
   "outputs": [
    {
     "name": "stdin",
     "output_type": "stream",
     "text": [
      "Enter a string:  he264ll0383\n"
     ]
    },
    {
     "name": "stdout",
     "output_type": "stream",
     "text": [
      "The string does not contain only digits.\n"
     ]
    }
   ],
   "source": [
    "def contains_only_digits(s):\n",
    "    return s.isdigit()\n",
    "    \n",
    "user_input = input(\"Enter a string: \")\n",
    "if contains_only_digits(user_input):\n",
    "    print(\"The string contains only digits.\")\n",
    "else:\n",
    "    print(\"The string does not contain only digits.\")\n"
   ]
  },
  {
   "cell_type": "markdown",
   "id": "ba8219c5-cba8-48a1-b731-0c400b4b1759",
   "metadata": {},
   "source": [
    "# Vowel Count"
   ]
  },
  {
   "cell_type": "code",
   "execution_count": 20,
   "id": "7d1d7ec8-3e00-4b9a-9aaa-53c5f219cf53",
   "metadata": {},
   "outputs": [
    {
     "name": "stdin",
     "output_type": "stream",
     "text": [
      "Enter a string:  twinkle little star\n"
     ]
    },
    {
     "name": "stdout",
     "output_type": "stream",
     "text": [
      "Number of vowels in the string: 5\n"
     ]
    }
   ],
   "source": [
    "def count_vowels(s):\n",
    "    vowels = \"aeiouAEIOU\"\n",
    "    count = sum(1 for char in s if char in vowels)\n",
    "    return count\n",
    "\n",
    "user_input = input(\"Enter a string: \")\n",
    "vowel_count = count_vowels(user_input)\n",
    "print(f\"Number of vowels in the string: {vowel_count}\")\n"
   ]
  }
 ],
 "metadata": {
  "kernelspec": {
   "display_name": "Python 3 (ipykernel)",
   "language": "python",
   "name": "python3"
  },
  "language_info": {
   "codemirror_mode": {
    "name": "ipython",
    "version": 3
   },
   "file_extension": ".py",
   "mimetype": "text/x-python",
   "name": "python",
   "nbconvert_exporter": "python",
   "pygments_lexer": "ipython3",
   "version": "3.12.4"
  }
 },
 "nbformat": 4,
 "nbformat_minor": 5
}
