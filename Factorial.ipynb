{
 "cells": [
  {
   "cell_type": "markdown",
   "id": "33932285-87c8-499a-aa69-b03b1824b7fd",
   "metadata": {},
   "source": [
    "# Factorial of a given number"
   ]
  },
  {
   "cell_type": "code",
   "execution_count": 7,
   "id": "3b65ee04-1b50-49ec-b3fd-c37dc5e077e1",
   "metadata": {},
   "outputs": [
    {
     "name": "stdout",
     "output_type": "stream",
     "text": [
      "Enter a number:  5\n"
     ]
    },
    {
     "name": "stdout",
     "output_type": "stream",
     "text": [
      "The factorial of 5 is: 120\n"
     ]
    },
    {
     "name": "stdout",
     "output_type": "stream",
     "text": [
      "Do you wish to conitnue (y/n):  y\n",
      "Enter a number:  10\n"
     ]
    },
    {
     "name": "stdout",
     "output_type": "stream",
     "text": [
      "The factorial of 10 is: 3628800\n"
     ]
    },
    {
     "name": "stdout",
     "output_type": "stream",
     "text": [
      "Do you wish to conitnue (y/n):  y\n",
      "Enter a number:  4\n"
     ]
    },
    {
     "name": "stdout",
     "output_type": "stream",
     "text": [
      "The factorial of 4 is: 24\n"
     ]
    },
    {
     "name": "stdout",
     "output_type": "stream",
     "text": [
      "Do you wish to conitnue (y/n):  n\n"
     ]
    }
   ],
   "source": [
    "def Fact(n):\n",
    "    P = 1\n",
    "    for i in range(1,n+1):\n",
    "        P = P * i\n",
    "    return P\n",
    "\n",
    "while True:\n",
    "    N = int(input(\"Enter a number: \"))\n",
    "    ans = Fact(N)\n",
    "    print(f\"The factorial of {N} is: {ans}\")\n",
    "    Z = input(\"Do you wish to conitnue (y/n): \")\n",
    "    if Z in 'nN':\n",
    "        break"
   ]
  },
  {
   "cell_type": "markdown",
   "id": "66dcae10-4e26-47b2-bc49-541b4d3fac23",
   "metadata": {},
   "source": [
    "# Prime Numbers below 100\n"
   ]
  },
  {
   "cell_type": "code",
   "execution_count": 15,
   "id": "59498314-b935-4241-91a3-3ea7362d8686",
   "metadata": {},
   "outputs": [
    {
     "name": "stdout",
     "output_type": "stream",
     "text": [
      "2 3 5 7 11 13 17 19 23 29 31 37 41 43 47 53 59 61 67 71 73 79 83 89 97 "
     ]
    }
   ],
   "source": [
    "def isPrime(n):\n",
    "    flag = 0\n",
    "    for i in range(2,n//2 + 1):\n",
    "        if n%i == 0:\n",
    "            flag = 1\n",
    "    if flag != 1:\n",
    "        return True\n",
    "    else:\n",
    "        return False\n",
    "\n",
    "def Prime_below100():\n",
    "    for i in range(2,101):\n",
    "        A = isPrime(i)\n",
    "        if A == True:\n",
    "            print(i, end = ' ')\n",
    "        else:\n",
    "            continue\n",
    "\n",
    "Prime_below100()"
   ]
  },
  {
   "cell_type": "markdown",
   "id": "96ead498-c062-406c-8e51-a484671f2020",
   "metadata": {},
   "source": [
    "# To count the number of characters in a string and store them in a dictionary\n"
   ]
  },
  {
   "cell_type": "code",
   "execution_count": 31,
   "id": "e472e29f-7adb-41c5-a5e1-3eaf6d766b9e",
   "metadata": {},
   "outputs": [
    {
     "name": "stdout",
     "output_type": "stream",
     "text": [
      "Enter a word:  hello\n"
     ]
    },
    {
     "name": "stdout",
     "output_type": "stream",
     "text": [
      "{'h': 1, 'e': 1, 'l': 2, 'o': 1}\n"
     ]
    },
    {
     "name": "stdout",
     "output_type": "stream",
     "text": [
      "Do you wish to continue (y/n):  y\n",
      "Enter a word:  assignment\n"
     ]
    },
    {
     "name": "stdout",
     "output_type": "stream",
     "text": [
      "{'a': 1, 's': 2, 'i': 1, 'g': 1, 'n': 2, 'm': 1, 'e': 1, 't': 1}\n"
     ]
    },
    {
     "name": "stdout",
     "output_type": "stream",
     "text": [
      "Do you wish to continue (y/n):  n\n"
     ]
    }
   ],
   "source": [
    "def stringCount(str):\n",
    "    D = {}\n",
    "    for i in str:\n",
    "        if i not in D.keys():\n",
    "            D[i] = 1\n",
    "        else:\n",
    "            D[i] += 1\n",
    "    return D\n",
    "\n",
    "while True:\n",
    "    A = input(\"Enter a word: \")\n",
    "    ans = stringCount(A)\n",
    "    print(ans)\n",
    "    Z = input(\"Do you wish to continue (y/n): \")\n",
    "    if Z in 'nN':\n",
    "        break"
   ]
  }
 ],
 "metadata": {
  "kernelspec": {
   "display_name": "Python 3 (ipykernel)",
   "language": "python",
   "name": "python3"
  },
  "language_info": {
   "codemirror_mode": {
    "name": "ipython",
    "version": 3
   },
   "file_extension": ".py",
   "mimetype": "text/x-python",
   "name": "python",
   "nbconvert_exporter": "python",
   "pygments_lexer": "ipython3",
   "version": "3.12.4"
  }
 },
 "nbformat": 4,
 "nbformat_minor": 5
}
