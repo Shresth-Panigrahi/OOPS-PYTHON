{
 "cells": [
  {
   "cell_type": "markdown",
   "id": "abcbdbcc-82fe-4dbd-b327-fe9a0e4fa3b9",
   "metadata": {},
   "source": [
    "# Triple the Numbers of List using map"
   ]
  },
  {
   "cell_type": "code",
   "execution_count": 4,
   "id": "dac186a6-b9c6-4180-b01f-6c8eefa040d2",
   "metadata": {},
   "outputs": [
    {
     "name": "stdout",
     "output_type": "stream",
     "text": [
      "[3, 6, 9, 12, 15]\n"
     ]
    }
   ],
   "source": [
    "def triple_numbers(lst):\n",
    "    return list(map(lambda x: x * 3, lst))\n",
    "\n",
    "lst = [1, 2, 3, 4, 5]\n",
    "print(triple_numbers(lst))"
   ]
  },
  {
   "cell_type": "markdown",
   "id": "612f5823-7346-4c2c-b7b3-ef315501d683",
   "metadata": {},
   "source": [
    "# Add 3 given lists using lambda and map"
   ]
  },
  {
   "cell_type": "code",
   "execution_count": 7,
   "id": "f30b83af-ebac-4422-b623-9b52450736d5",
   "metadata": {},
   "outputs": [
    {
     "name": "stdout",
     "output_type": "stream",
     "text": [
      "[12, 15, 18]\n"
     ]
    }
   ],
   "source": [
    "def add_lists(lst1, lst2, lst3):\n",
    "    return list(map(lambda x, y, z: x + y + z, lst1, lst2, lst3))\n",
    "\n",
    "lst1 = [1, 2, 3]\n",
    "lst2 = [4, 5, 6]\n",
    "lst3 = [7, 8, 9]\n",
    "print(add_lists(lst1, lst2, lst3))"
   ]
  },
  {
   "cell_type": "markdown",
   "id": "ca6141d8-d296-49ab-85a7-7a1eb7a1868a",
   "metadata": {},
   "source": [
    "# Listify the given list of strings using map"
   ]
  },
  {
   "cell_type": "code",
   "execution_count": 10,
   "id": "17da8fff-c9ff-46be-8919-c97b8b593cc9",
   "metadata": {},
   "outputs": [
    {
     "name": "stdout",
     "output_type": "stream",
     "text": [
      "[['h', 'e', 'l', 'l', 'o'], ['s', 'h', 'r', 'e', 's', 't', 'h'], ['p', 'a', 'n', 'i', 'g', 'r', 'a', 'h', 'i']]\n"
     ]
    }
   ],
   "source": [
    "def listify_strings(lst):\n",
    "    return list(map(list, lst))\n",
    "\n",
    "lst = [\"hello\", \"shresth\", \"panigrahi\"]\n",
    "print(listify_strings(lst))"
   ]
  },
  {
   "cell_type": "markdown",
   "id": "e80f6d71-2613-4739-b2e0-e9c04dd0c9e7",
   "metadata": {},
   "source": [
    "# Create a list containing the power of a number in bases raised to the corresponding number in the index using map"
   ]
  },
  {
   "cell_type": "code",
   "execution_count": 13,
   "id": "1790fc5d-de06-4f0d-87e3-328b8ce85d12",
   "metadata": {},
   "outputs": [
    {
     "name": "stdout",
     "output_type": "stream",
     "text": [
      "[1, 3, 16, 125]\n"
     ]
    }
   ],
   "source": [
    "def powers_of_indices(lst):\n",
    "    return list(map(pow, lst, range(len(lst))))\n",
    "\n",
    "lst = [2, 3, 4, 5]\n",
    "print(powers_of_indices(lst))"
   ]
  },
  {
   "cell_type": "markdown",
   "id": "35eac38e-161c-4fac-9845-fc1051253f0c",
   "metadata": {},
   "source": [
    "# Square of elements of list using map"
   ]
  },
  {
   "cell_type": "code",
   "execution_count": 16,
   "id": "26025966-e4ca-427f-9501-de1667d56ee0",
   "metadata": {},
   "outputs": [
    {
     "name": "stdout",
     "output_type": "stream",
     "text": [
      "[1, 4, 9, 16, 25]\n"
     ]
    }
   ],
   "source": [
    "def square_elements(lst):\n",
    "    return list(map(lambda x: x ** 2, lst))\n",
    "\n",
    "lst = [1, 2, 3, 4, 5]\n",
    "print(square_elements(lst))"
   ]
  },
  {
   "cell_type": "markdown",
   "id": "4b9a10ff-b890-4e7e-9b83-016ea605c9f5",
   "metadata": {},
   "source": [
    "# Convert all characters into uppercase and lowercase and eliminate duplicate letters from a given sequence using map"
   ]
  },
  {
   "cell_type": "code",
   "execution_count": 21,
   "id": "28104e7a-9afb-4442-a62a-b32d2b76c28a",
   "metadata": {},
   "outputs": [
    {
     "name": "stdout",
     "output_type": "stream",
     "text": [
      "CcBbAa\n"
     ]
    }
   ],
   "source": [
    "def case_conversion(sequence):\n",
    "    return ''.join(set(map(lambda x: x.upper() + x.lower(), sequence)))\n",
    "\n",
    "sequence = \"aAbBcC\"\n",
    "print(case_conversion(sequence))"
   ]
  },
  {
   "cell_type": "markdown",
   "id": "afd1539f-fc52-4171-bc1f-eb42d20033e1",
   "metadata": {},
   "source": [
    "# Add two given lists and find the difference between them using map"
   ]
  },
  {
   "cell_type": "code",
   "execution_count": 25,
   "id": "60707edd-b68c-435e-9c6f-2d3eb3716008",
   "metadata": {},
   "outputs": [
    {
     "name": "stdout",
     "output_type": "stream",
     "text": [
      "Addition: [15, 35, 55]\n",
      "Difference: [5, 5, 5]\n"
     ]
    }
   ],
   "source": [
    "def add_and_diff(lst1, lst2):\n",
    "    addition = list(map(lambda x, y: x + y, lst1, lst2))\n",
    "    difference = list(map(lambda x, y: x - y, lst1, lst2))\n",
    "    return addition, difference\n",
    "\n",
    "lst1 = [10, 20, 30]\n",
    "lst2 = [5, 15, 25]\n",
    "add_result, diff_result = add_and_diff(lst1, lst2)\n",
    "print(\"Addition:\", add_result)\n",
    "print(\"Difference:\", diff_result)"
   ]
  },
  {
   "cell_type": "markdown",
   "id": "317c2c00-d597-4ee1-a4c9-eb9435502af3",
   "metadata": {},
   "source": [
    "# Convert a given list of integers and a tuple of integers into a list of strings"
   ]
  },
  {
   "cell_type": "code",
   "execution_count": 28,
   "id": "07940e43-4dbd-493c-ad33-f8f7fb1f1a9d",
   "metadata": {},
   "outputs": [
    {
     "name": "stdout",
     "output_type": "stream",
     "text": [
      "['1', '2', '3', '4', '5', '6']\n"
     ]
    }
   ],
   "source": [
    "def convert_to_strings(lst, tup):\n",
    "    return list(map(str, lst + list(tup)))\n",
    "\n",
    "lst = [1, 2, 3]\n",
    "tup = (4, 5, 6)\n",
    "print(convert_to_strings(lst, tup))"
   ]
  },
  {
   "cell_type": "markdown",
   "id": "26cf2f04-35d8-4d6b-b79f-95c9c8714b56",
   "metadata": {},
   "source": [
    "#  Create a new list by taking specific elements from a tuple and convert a string value to an integer"
   ]
  },
  {
   "cell_type": "code",
   "execution_count": 31,
   "id": "cec55b79-2aa7-406b-a31c-364b4c5fba9e",
   "metadata": {},
   "outputs": [
    {
     "name": "stdout",
     "output_type": "stream",
     "text": [
      "[20, 40]\n"
     ]
    }
   ],
   "source": [
    "def extract_and_convert(tup):\n",
    "    return list(map(int, [tup[1], tup[3]]))\n",
    "\n",
    "tup = ('10', '20', '30', '40')\n",
    "print(extract_and_convert(tup))"
   ]
  },
  {
   "cell_type": "markdown",
   "id": "d9b14bc4-0ee6-4dcd-9ce8-76d031ef0d0c",
   "metadata": {},
   "source": [
    "# Compute the square of the first N Fibonacci numbers using the map function"
   ]
  },
  {
   "cell_type": "code",
   "execution_count": 34,
   "id": "b5ffb77a-49e3-4902-ad04-be7c4e6dfbe8",
   "metadata": {},
   "outputs": [
    {
     "name": "stdout",
     "output_type": "stream",
     "text": [
      "[0, 1, 1, 4, 9, 25, 64, 169, 441, 1156]\n"
     ]
    }
   ],
   "source": [
    "def fibonacci(n):\n",
    "    fib_sequence = [0, 1]\n",
    "    for i in range(2, n):\n",
    "        fib_sequence.append(fib_sequence[-1] + fib_sequence[-2])\n",
    "    return fib_sequence\n",
    "\n",
    "def square_fibonacci(n):\n",
    "    fib_numbers = fibonacci(n)\n",
    "    return list(map(lambda x: x ** 2, fib_numbers))\n",
    "\n",
    "n = 10\n",
    "print(square_fibonacci(n))"
   ]
  },
  {
   "cell_type": "markdown",
   "id": "2bf1eaab-1988-4023-af83-d1d23799c598",
   "metadata": {},
   "source": [
    "# Compute the sum of elements of an array of integers using map"
   ]
  },
  {
   "cell_type": "code",
   "execution_count": 38,
   "id": "a4190bc6-0cf4-4466-b1be-54b447f1c75e",
   "metadata": {},
   "outputs": [
    {
     "name": "stdout",
     "output_type": "stream",
     "text": [
      "15\n"
     ]
    }
   ],
   "source": [
    "from functools import reduce\n",
    "\n",
    "def sum_of_elements(lst):\n",
    "    return reduce(lambda x, y: x + y, lst)\n",
    "\n",
    "lst = [1, 2, 3, 4, 5]\n",
    "print(sum_of_elements(lst))"
   ]
  }
 ],
 "metadata": {
  "kernelspec": {
   "display_name": "Python 3 (ipykernel)",
   "language": "python",
   "name": "python3"
  },
  "language_info": {
   "codemirror_mode": {
    "name": "ipython",
    "version": 3
   },
   "file_extension": ".py",
   "mimetype": "text/x-python",
   "name": "python",
   "nbconvert_exporter": "python",
   "pygments_lexer": "ipython3",
   "version": "3.12.4"
  }
 },
 "nbformat": 4,
 "nbformat_minor": 5
}
