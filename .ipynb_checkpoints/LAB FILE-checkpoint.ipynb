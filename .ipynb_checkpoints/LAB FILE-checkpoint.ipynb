{
 "cells": [
  {
   "cell_type": "markdown",
   "id": "33932285-87c8-499a-aa69-b03b1824b7fd",
   "metadata": {},
   "source": [
    "# Factorial of a given number"
   ]
  },
  {
   "cell_type": "code",
   "execution_count": 7,
   "id": "3b65ee04-1b50-49ec-b3fd-c37dc5e077e1",
   "metadata": {},
   "outputs": [
    {
     "name": "stdin",
     "output_type": "stream",
     "text": [
      "Enter a number:  5\n"
     ]
    },
    {
     "name": "stdout",
     "output_type": "stream",
     "text": [
      "The factorial of 5 is: 120\n"
     ]
    },
    {
     "name": "stdin",
     "output_type": "stream",
     "text": [
      "Do you wish to conitnue (y/n):  y\n",
      "Enter a number:  10\n"
     ]
    },
    {
     "name": "stdout",
     "output_type": "stream",
     "text": [
      "The factorial of 10 is: 3628800\n"
     ]
    },
    {
     "name": "stdin",
     "output_type": "stream",
     "text": [
      "Do you wish to conitnue (y/n):  y\n",
      "Enter a number:  4\n"
     ]
    },
    {
     "name": "stdout",
     "output_type": "stream",
     "text": [
      "The factorial of 4 is: 24\n"
     ]
    },
    {
     "name": "stdin",
     "output_type": "stream",
     "text": [
      "Do you wish to conitnue (y/n):  n\n"
     ]
    }
   ],
   "source": [
    "def Fact(n):\n",
    "    P = 1\n",
    "    for i in range(1,n+1):\n",
    "        P = P * i\n",
    "    return P\n",
    "\n",
    "while True:\n",
    "    N = int(input(\"Enter a number: \"))\n",
    "    ans = Fact(N)\n",
    "    print(f\"The factorial of {N} is: {ans}\")\n",
    "    Z = input(\"Do you wish to conitnue (y/n): \")\n",
    "    if Z in 'nN':\n",
    "        break"
   ]
  },
  {
   "cell_type": "code",
   "execution_count": null,
   "id": "5a8af54b-09d1-4c18-9204-8642a03507aa",
   "metadata": {},
   "outputs": [],
   "source": []
  }
 ],
 "metadata": {
  "kernelspec": {
   "display_name": "Python 3 (ipykernel)",
   "language": "python",
   "name": "python3"
  },
  "language_info": {
   "codemirror_mode": {
    "name": "ipython",
    "version": 3
   },
   "file_extension": ".py",
   "mimetype": "text/x-python",
   "name": "python",
   "nbconvert_exporter": "python",
   "pygments_lexer": "ipython3",
   "version": "3.12.4"
  }
 },
 "nbformat": 4,
 "nbformat_minor": 5
}
