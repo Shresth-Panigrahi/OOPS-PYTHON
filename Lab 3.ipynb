{
 "cells": [
  {
   "cell_type": "markdown",
   "id": "987fcf7a-2e1a-4dc9-88c4-f3dcb3ba8cd7",
   "metadata": {},
   "source": [
    "# Disarium Number"
   ]
  },
  {
   "cell_type": "code",
   "execution_count": 2,
   "id": "4157152d-acf0-4598-ac47-f5f42d8045ef",
   "metadata": {},
   "outputs": [
    {
     "name": "stdin",
     "output_type": "stream",
     "text": [
      "Enter a number to check whether its Disarium or not:  135\n"
     ]
    },
    {
     "name": "stdout",
     "output_type": "stream",
     "text": [
      "135 is a Disarium number\n"
     ]
    }
   ],
   "source": [
    "def is_disarium(number):\n",
    "    digits = list(map(int, str(number)))\n",
    "    length = len(digits)\n",
    "    sum_disarium = sum([digit ** (index + 1) for index, digit in enumerate(digits)])\n",
    "    \n",
    "    return sum_disarium == number\n",
    "\n",
    "number = int(input(\"Enter a number to check whether its Disarium or not: \"))\n",
    "if is_disarium(number):\n",
    "    print(f\"{number} is a Disarium number\")\n",
    "else:\n",
    "    print(f\"{number} is not a Disarium number\")\n"
   ]
  },
  {
   "cell_type": "markdown",
   "id": "71280849-4992-4cfe-818b-740ba2f4ed47",
   "metadata": {},
   "source": [
    "# Harshad Number"
   ]
  },
  {
   "cell_type": "code",
   "execution_count": 4,
   "id": "58849036-48e6-46fc-8abe-b79552856016",
   "metadata": {},
   "outputs": [
    {
     "name": "stdin",
     "output_type": "stream",
     "text": [
      "Enter a number: 18\n"
     ]
    },
    {
     "name": "stdout",
     "output_type": "stream",
     "text": [
      "18 is a Harshad Number\n"
     ]
    }
   ],
   "source": [
    "def is_harshad(num):\n",
    "    digit_sum = sum(int(digit) for digit in str(num))\n",
    "    \n",
    "    return num % digit_sum == 0\n",
    "\n",
    "num = int(input(\"Enter a number:\"))\n",
    "if is_harshad(num):\n",
    "    print(f\"{num} is a Harshad Number\")\n",
    "else:\n",
    "    print(f\"{num} is not a Harshad Number\")\n"
   ]
  },
  {
   "cell_type": "markdown",
   "id": "b047af52-b07e-44d7-9c37-2f1460a9df16",
   "metadata": {},
   "source": [
    "# Armstrong Numbers between 1 and 1000"
   ]
  },
  {
   "cell_type": "code",
   "execution_count": 7,
   "id": "3f65454b-89ad-4e19-98e2-49c2d855a970",
   "metadata": {},
   "outputs": [
    {
     "name": "stdout",
     "output_type": "stream",
     "text": [
      "Armstrong Numbers between 1 and 1000:\n",
      "1\n",
      "2\n",
      "3\n",
      "4\n",
      "5\n",
      "6\n",
      "7\n",
      "8\n",
      "9\n",
      "153\n",
      "370\n",
      "371\n",
      "407\n"
     ]
    }
   ],
   "source": [
    "def is_armstrong(num):\n",
    "    num_str = str(num)\n",
    "    length = len(num_str)\n",
    "    \n",
    "    armstrong_sum = sum(int(digit)**length for digit in num_str)\n",
    "    \n",
    "    return armstrong_sum == num\n",
    "\n",
    "print(\"Armstrong Numbers between 1 and 1000:\")\n",
    "for num in range(1, 1001):\n",
    "    if is_armstrong(num):\n",
    "        print(num)\n"
   ]
  },
  {
   "cell_type": "markdown",
   "id": "4683514d-e68b-41eb-8cde-4b4e1ec1081d",
   "metadata": {},
   "source": [
    "# X^N"
   ]
  },
  {
   "cell_type": "code",
   "execution_count": 14,
   "id": "4e1883f6-7a13-4240-b088-e95e226217c4",
   "metadata": {},
   "outputs": [
    {
     "name": "stdin",
     "output_type": "stream",
     "text": [
      "Enter a number:  2\n",
      "Enter the power:  3\n"
     ]
    },
    {
     "name": "stdout",
     "output_type": "stream",
     "text": [
      "8\n"
     ]
    }
   ],
   "source": [
    "def Pow(x,n):\n",
    "    P = 1\n",
    "    for i in range(1,n+1):\n",
    "        P = P * x\n",
    "    return P\n",
    "\n",
    "x = int(input(\"Enter a number: \"))\n",
    "n = int(input(\"Enter the power: \"))\n",
    "ans = Pow(x,n)\n",
    "print(ans)"
   ]
  },
  {
   "cell_type": "markdown",
   "id": "12363f66-aab8-407b-96e1-51dac0d1c482",
   "metadata": {},
   "source": [
    "# nCr"
   ]
  },
  {
   "cell_type": "code",
   "execution_count": 16,
   "id": "962ddcb9-fa93-4305-9d88-88356c68c76d",
   "metadata": {},
   "outputs": [
    {
     "name": "stdout",
     "output_type": "stream",
     "text": [
      "The value of 5C2 is 10\n"
     ]
    }
   ],
   "source": [
    "import math\n",
    "\n",
    "def nCr(n, r):\n",
    "    return math.factorial(n) // (math.factorial(r) * math.factorial(n - r))\n",
    "\n",
    "n = 5\n",
    "r = 2\n",
    "print(f\"The value of {n}C{r} is {nCr(n, r)}\")\n"
   ]
  },
  {
   "cell_type": "markdown",
   "id": "f872bd24-1fe3-48fd-896c-d2f1f36b8f23",
   "metadata": {},
   "source": [
    "# Sum of Digits"
   ]
  },
  {
   "cell_type": "code",
   "execution_count": 20,
   "id": "b47d365c-b827-4e7c-b742-47d9e88f73a6",
   "metadata": {},
   "outputs": [
    {
     "name": "stdin",
     "output_type": "stream",
     "text": [
      "Enter a number:  1234\n"
     ]
    },
    {
     "name": "stdout",
     "output_type": "stream",
     "text": [
      "The sum of digits of 1234 is 10\n"
     ]
    }
   ],
   "source": [
    "def sum_of_digits(num):\n",
    "    return sum(int(digit) for digit in str(num))\n",
    "\n",
    "num = int(input(\"Enter a number: \"))\n",
    "print(f\"The sum of digits of {num} is {sum_of_digits(num)}\")\n"
   ]
  }
 ],
 "metadata": {
  "kernelspec": {
   "display_name": "Python 3 (ipykernel)",
   "language": "python",
   "name": "python3"
  },
  "language_info": {
   "codemirror_mode": {
    "name": "ipython",
    "version": 3
   },
   "file_extension": ".py",
   "mimetype": "text/x-python",
   "name": "python",
   "nbconvert_exporter": "python",
   "pygments_lexer": "ipython3",
   "version": "3.12.4"
  }
 },
 "nbformat": 4,
 "nbformat_minor": 5
}
