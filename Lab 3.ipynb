{
 "cells": [
  {
   "cell_type": "markdown",
   "id": "987fcf7a-2e1a-4dc9-88c4-f3dcb3ba8cd7",
   "metadata": {},
   "source": [
    "# Disarium Number"
   ]
  },
  {
   "cell_type": "code",
   "execution_count": 2,
   "id": "4157152d-acf0-4598-ac47-f5f42d8045ef",
   "metadata": {},
   "outputs": [
    {
     "name": "stdin",
     "output_type": "stream",
     "text": [
      "Enter a number to check whether its Disarium or not:  135\n"
     ]
    },
    {
     "name": "stdout",
     "output_type": "stream",
     "text": [
      "135 is a Disarium number\n"
     ]
    }
   ],
   "source": [
    "def is_disarium(number):\n",
    "    digits = list(map(int, str(number)))\n",
    "    length = len(digits)\n",
    "    sum_disarium = sum([digit ** (index + 1) for index, digit in enumerate(digits)])\n",
    "    \n",
    "    return sum_disarium == number\n",
    "\n",
    "number = int(input(\"Enter a number to check whether its Disarium or not: \"))\n",
    "if is_disarium(number):\n",
    "    print(f\"{number} is a Disarium number\")\n",
    "else:\n",
    "    print(f\"{number} is not a Disarium number\")\n"
   ]
  },
  {
   "cell_type": "code",
   "execution_count": null,
   "id": "9e4c49f7-66cf-4114-8e25-f267f7f97b3f",
   "metadata": {},
   "outputs": [],
   "source": []
  }
 ],
 "metadata": {
  "kernelspec": {
   "display_name": "Python 3 (ipykernel)",
   "language": "python",
   "name": "python3"
  },
  "language_info": {
   "codemirror_mode": {
    "name": "ipython",
    "version": 3
   },
   "file_extension": ".py",
   "mimetype": "text/x-python",
   "name": "python",
   "nbconvert_exporter": "python",
   "pygments_lexer": "ipython3",
   "version": "3.12.4"
  }
 },
 "nbformat": 4,
 "nbformat_minor": 5
}
