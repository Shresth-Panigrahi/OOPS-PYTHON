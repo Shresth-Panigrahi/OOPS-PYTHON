{
 "cells": [
  {
   "cell_type": "markdown",
   "id": "2fa26864-1272-4833-96af-96fcf16430e2",
   "metadata": {},
   "source": [
    "# Simple Number Triangle"
   ]
  },
  {
   "cell_type": "code",
   "execution_count": 2,
   "id": "38ab52ab-9e5b-4fcb-a940-830680982fa5",
   "metadata": {},
   "outputs": [
    {
     "name": "stdout",
     "output_type": "stream",
     "text": [
      "1 \n",
      "2 2 \n",
      "3 3 3 \n",
      "4 4 4 4 \n",
      "5 5 5 5 5 \n"
     ]
    }
   ],
   "source": [
    "def simple_number_triangle(n):\n",
    "    for i in range(1, n + 1):\n",
    "        print((str(i) + ' ') * i)\n",
    "\n",
    "simple_number_triangle(5)"
   ]
  },
  {
   "cell_type": "markdown",
   "id": "6194f9aa-9148-4128-9fae-44c563ccab2d",
   "metadata": {},
   "source": [
    "# Inverted Pyramid of Numbers"
   ]
  },
  {
   "cell_type": "code",
   "execution_count": 5,
   "id": "ff852799-9bf6-423a-b67e-4e9948810539",
   "metadata": {},
   "outputs": [
    {
     "name": "stdout",
     "output_type": "stream",
     "text": [
      "1 1 1 1 1 \n",
      " 2 2 2 2 \n",
      "  3 3 3 \n",
      "   4 4 \n",
      "    5 \n"
     ]
    }
   ],
   "source": [
    "def inverted_pyramid_numbers(n):\n",
    "    for i in range(1, n + 1):\n",
    "        print(' ' * (i - 1) + (str(i) + ' ') * (n - i + 1))\n",
    "\n",
    "inverted_pyramid_numbers(5)"
   ]
  },
  {
   "cell_type": "markdown",
   "id": "5b9d22ee-5d4b-4ab5-a33d-75e9b9d9cd4a",
   "metadata": {},
   "source": [
    "# Half Pyramid if Numbers"
   ]
  },
  {
   "cell_type": "code",
   "execution_count": 8,
   "id": "7d70e022-171d-430b-9221-34e2257fa2c1",
   "metadata": {},
   "outputs": [
    {
     "name": "stdout",
     "output_type": "stream",
     "text": [
      "1 \n",
      "1 2 \n",
      "1 2 3 \n",
      "1 2 3 4 \n",
      "1 2 3 4 5 \n"
     ]
    }
   ],
   "source": [
    "def half_pyramid_numbers(n):\n",
    "    for i in range(1, n + 1):\n",
    "        for j in range(1, i + 1):\n",
    "            print(j, end=' ')\n",
    "        print()\n",
    "\n",
    "half_pyramid_numbers(5)"
   ]
  },
  {
   "cell_type": "markdown",
   "id": "22fe2757-f583-4ede-a08c-87522c103f3e",
   "metadata": {},
   "source": [
    "# Inverted Pyramid of Descending Numbers"
   ]
  },
  {
   "cell_type": "code",
   "execution_count": 11,
   "id": "1041012d-ea65-4a1f-8ffa-b54903341855",
   "metadata": {},
   "outputs": [
    {
     "name": "stdout",
     "output_type": "stream",
     "text": [
      "5 5 5 5 5 \n",
      " 4 4 4 4 \n",
      "  3 3 3 \n",
      "   2 2 \n",
      "    1 \n"
     ]
    }
   ],
   "source": [
    "def inverted_pyramid_descending_numbers(n):\n",
    "    for i in range(n, 0, -1):\n",
    "        print(' ' * (n - i) + (str(i) + ' ') * i)\n",
    "\n",
    "inverted_pyramid_descending_numbers(5)"
   ]
  },
  {
   "cell_type": "markdown",
   "id": "195a4799-2f16-49cd-ac60-4da4d76ffa6a",
   "metadata": {},
   "source": [
    "# Inverted Pyramid of Same Digits"
   ]
  },
  {
   "cell_type": "code",
   "execution_count": 14,
   "id": "e598a99a-5b32-4841-9dce-768ccb11d5dc",
   "metadata": {},
   "outputs": [
    {
     "name": "stdout",
     "output_type": "stream",
     "text": [
      "7 7 7 7 7 7 7 \n",
      " 7 7 7 7 7 7 \n",
      "  7 7 7 7 7 \n",
      "   7 7 7 7 \n",
      "    7 7 7 \n",
      "     7 7 \n",
      "      7 \n"
     ]
    }
   ],
   "source": [
    "def inverted_pyramid_same_digit(n):\n",
    "    for i in range(n, 0, -1):\n",
    "        print(' ' * (n - i) + (str(n) + ' ') * i)\n",
    "\n",
    "inverted_pyramid_same_digit(7)"
   ]
  }
 ],
 "metadata": {
  "kernelspec": {
   "display_name": "Python 3 (ipykernel)",
   "language": "python",
   "name": "python3"
  },
  "language_info": {
   "codemirror_mode": {
    "name": "ipython",
    "version": 3
   },
   "file_extension": ".py",
   "mimetype": "text/x-python",
   "name": "python",
   "nbconvert_exporter": "python",
   "pygments_lexer": "ipython3",
   "version": "3.12.4"
  }
 },
 "nbformat": 4,
 "nbformat_minor": 5
}
