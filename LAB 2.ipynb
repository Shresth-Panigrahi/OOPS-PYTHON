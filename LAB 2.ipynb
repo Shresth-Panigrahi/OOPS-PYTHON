{
 "cells": [
  {
   "cell_type": "markdown",
   "id": "2c67f7c5-4a2b-4ef8-a751-8c9ccca7f09d",
   "metadata": {},
   "source": [
    "# Fibbonaci"
   ]
  },
  {
   "cell_type": "code",
   "execution_count": 18,
   "id": "67c5c8c0-6d51-42f7-9214-b38f329010f8",
   "metadata": {},
   "outputs": [
    {
     "name": "stdin",
     "output_type": "stream",
     "text": [
      "Enter a number:  7\n"
     ]
    },
    {
     "name": "stdout",
     "output_type": "stream",
     "text": [
      "Fibonacci series of 7 numbers:\n",
      "[0, 1, 1, 2, 3, 5, 8]\n"
     ]
    }
   ],
   "source": [
    "def Fibb(n):\n",
    "    if n <= 0:\n",
    "        return []\n",
    "    elif n == 1:\n",
    "        return [0]\n",
    "    elif n == 2:\n",
    "        return [0, 1]\n",
    "    else:\n",
    "        fib = Fibb(n - 1)\n",
    "        fib.append(fib[-1] + fib[-2])\n",
    "        return fib\n",
    "\n",
    "n = int(input(\"Enter a number: \"))\n",
    "result = Fibb(n)\n",
    "print(f\"Fibonacci series of {n} numbers:\")\n",
    "print(result)"
   ]
  },
  {
   "cell_type": "markdown",
   "id": "8ca9abf0-ef1e-48c8-8487-dbe97bae2a87",
   "metadata": {},
   "source": [
    "# Factorial using a Loop"
   ]
  },
  {
   "cell_type": "code",
   "execution_count": 20,
   "id": "077004f3-f86c-4b8e-93cc-2a6973e06240",
   "metadata": {},
   "outputs": [
    {
     "name": "stdin",
     "output_type": "stream",
     "text": [
      "Enter a number:  8\n"
     ]
    },
    {
     "name": "stdout",
     "output_type": "stream",
     "text": [
      "The factorial of 8 is: 40320\n"
     ]
    }
   ],
   "source": [
    "def factorial(n):\n",
    "    if n < 0:\n",
    "        return \"Factorial is not defined for negative numbers\"\n",
    "    elif n == 0 or n == 1:\n",
    "        return 1\n",
    "    else:\n",
    "        result = 1\n",
    "        while n > 1:\n",
    "            result *= n\n",
    "            n -= 1\n",
    "        return result\n",
    "\n",
    "number = int(input(\"Enter a number: \"))\n",
    "result = factorial(number)\n",
    "print(f\"The factorial of {number} is: {result}\")"
   ]
  },
  {
   "cell_type": "markdown",
   "id": "f2b4b16d-25c7-42ab-8222-980c230200e3",
   "metadata": {},
   "source": [
    "# Checking Armstrong"
   ]
  },
  {
   "cell_type": "code",
   "execution_count": 30,
   "id": "13612b42-45fb-4fe1-b7e7-e445cbeb4df2",
   "metadata": {},
   "outputs": [
    {
     "name": "stdin",
     "output_type": "stream",
     "text": [
      "Enter a number to check whether its Armstrong:   371\n"
     ]
    },
    {
     "name": "stdout",
     "output_type": "stream",
     "text": [
      "Its an Armstrong number\n"
     ]
    }
   ],
   "source": [
    "def Arm(N):\n",
    "    A=str(N)\n",
    "    D=len(A)\n",
    "    S=0\n",
    "    for I in A:\n",
    "        X=int(I)\n",
    "        S=S+(X**D)\n",
    "    if S==N:\n",
    "        return 1\n",
    "    return 0\n",
    "\n",
    "N = int(input(\"Enter a number to check whether its Armstrong:  \"))\n",
    "ans = Arm(N)\n",
    "if ans == 1:\n",
    "    print(\"Its an Armstrong number\")\n",
    "else:\n",
    "    print(\"Its not an Armstrong number\")"
   ]
  },
  {
   "cell_type": "markdown",
   "id": "b42488bf-6475-44ae-b9bf-bff9a72f5010",
   "metadata": {},
   "source": [
    "# Perfect Number"
   ]
  },
  {
   "cell_type": "code",
   "execution_count": 35,
   "id": "a8691ade-c5c8-4fd0-a3d6-4c40059c8977",
   "metadata": {},
   "outputs": [
    {
     "name": "stdin",
     "output_type": "stream",
     "text": [
      "Enter a number to check whether its Perfect or not:  370\n"
     ]
    },
    {
     "name": "stdout",
     "output_type": "stream",
     "text": [
      "370 is not a perfect number\n"
     ]
    }
   ],
   "source": [
    "def isPerfect(number):\n",
    "    if number <= 0:\n",
    "        return False\n",
    "\n",
    "    divisor_sum = sum(i for i in range(1, number) if number % i == 0)\n",
    "\n",
    "    return divisor_sum == number\n",
    "\n",
    "number = int(input(\"Enter a number to check whether its Perfect or not: \"))\n",
    "if isPerfect(number):\n",
    "    print(f\"{number} is a perfect number\")\n",
    "else:\n",
    "    print(f\"{number} is not a perfect number\")"
   ]
  },
  {
   "cell_type": "markdown",
   "id": "6fa3e83f-f0e7-4b74-9f31-1a6e342ea641",
   "metadata": {},
   "source": [
    "# Strong Number"
   ]
  },
  {
   "cell_type": "code",
   "execution_count": 38,
   "id": "622e0ec0-dc90-4520-b64e-f4c919ecdb9d",
   "metadata": {},
   "outputs": [
    {
     "name": "stdin",
     "output_type": "stream",
     "text": [
      "Enter a number:  145\n"
     ]
    },
    {
     "name": "stdout",
     "output_type": "stream",
     "text": [
      "145 is a Strong number.\n"
     ]
    }
   ],
   "source": [
    "def factorial(n):\n",
    "    if n == 0 or n == 1:\n",
    "        return 1\n",
    "    else:\n",
    "        return n * factorial(n - 1)\n",
    "\n",
    "def is_strong_number(num):\n",
    "    sum_of_factorials = 0\n",
    "    temp = num\n",
    "    while temp > 0:\n",
    "        digit = temp % 10\n",
    "        sum_of_factorials += factorial(digit)\n",
    "        temp //= 10\n",
    "    \n",
    "    return sum_of_factorials == num\n",
    "\n",
    "num = int(input(\"Enter a number: \"))\n",
    "if is_strong_number(num):\n",
    "    print(f\"{num} is a Strong number.\")\n",
    "else:\n",
    "    print(f\"{num} is not a Strong number.\")\n"
   ]
  },
  {
   "cell_type": "markdown",
   "id": "29cb0643-0aa3-4776-b03a-e3bf7e045058",
   "metadata": {},
   "source": [
    "# Multiplicaton Table"
   ]
  },
  {
   "cell_type": "code",
   "execution_count": 41,
   "id": "0f437e12-f88d-426e-b332-f1145aaf8d4a",
   "metadata": {},
   "outputs": [
    {
     "name": "stdin",
     "output_type": "stream",
     "text": [
      "Enter the number for which you want to see the multiplication table:  13\n",
      "Enter the number of rows for the table:  10\n"
     ]
    },
    {
     "name": "stdout",
     "output_type": "stream",
     "text": [
      "Multiplication table for 13:\n",
      "13 x 1 = 13\n",
      "13 x 2 = 26\n",
      "13 x 3 = 39\n",
      "13 x 4 = 52\n",
      "13 x 5 = 65\n",
      "13 x 6 = 78\n",
      "13 x 7 = 91\n",
      "13 x 8 = 104\n",
      "13 x 9 = 117\n",
      "13 x 10 = 130\n"
     ]
    }
   ],
   "source": [
    "def print_multiplication_table(number, rows):\n",
    "    print(f\"Multiplication table for {number}:\")\n",
    "    for i in range(1, rows + 1):\n",
    "        result = number * i\n",
    "        print(f\"{number} x {i} = {result}\")\n",
    "\n",
    "number = int(input(\"Enter the number for which you want to see the multiplication table: \"))\n",
    "rows = int(input(\"Enter the number of rows for the table: \"))\n",
    "\n",
    "print_multiplication_table(number, rows)"
   ]
  },
  {
   "cell_type": "markdown",
   "id": "d6adf404-71b8-470b-85de-8ce27a95de75",
   "metadata": {},
   "source": [
    "# LCM and GCD of Numbers"
   ]
  },
  {
   "cell_type": "code",
   "execution_count": 44,
   "id": "01e669f4-10d5-4cfc-b089-bc104f8d13d5",
   "metadata": {},
   "outputs": [
    {
     "name": "stdin",
     "output_type": "stream",
     "text": [
      "Enter the first number:  24\n",
      "Enter the second number:  36\n"
     ]
    },
    {
     "name": "stdout",
     "output_type": "stream",
     "text": [
      "The GCD of 24 and 36 is: 12\n",
      "The LCM of 24 and 36 is: 72\n"
     ]
    }
   ],
   "source": [
    "def gcd(a, b):\n",
    "    while b:\n",
    "        a, b = b, a % b\n",
    "    return a\n",
    "\n",
    "def lcm(a, b):\n",
    "    return abs(a * b) // gcd(a, b)\n",
    "\n",
    "def calculate_lcm_gcd(num1, num2):\n",
    "    gcd_result = gcd(num1, num2)\n",
    "    lcm_result = lcm(num1, num2)\n",
    "    return gcd_result, lcm_result\n",
    "\n",
    "num1 = int(input(\"Enter the first number: \"))\n",
    "num2 = int(input(\"Enter the second number: \"))\n",
    "\n",
    "gcd_result, lcm_result = calculate_lcm_gcd(num1, num2)\n",
    "print(f\"The GCD of {num1} and {num2} is: {gcd_result}\")\n",
    "print(f\"The LCM of {num1} and {num2} is: {lcm_result}\")"
   ]
  },
  {
   "cell_type": "code",
   "execution_count": null,
   "id": "fd7836e8-922b-4150-b350-2dd59e6e8b16",
   "metadata": {},
   "outputs": [],
   "source": []
  }
 ],
 "metadata": {
  "kernelspec": {
   "display_name": "Python 3 (ipykernel)",
   "language": "python",
   "name": "python3"
  },
  "language_info": {
   "codemirror_mode": {
    "name": "ipython",
    "version": 3
   },
   "file_extension": ".py",
   "mimetype": "text/x-python",
   "name": "python",
   "nbconvert_exporter": "python",
   "pygments_lexer": "ipython3",
   "version": "3.12.4"
  }
 },
 "nbformat": 4,
 "nbformat_minor": 5
}
